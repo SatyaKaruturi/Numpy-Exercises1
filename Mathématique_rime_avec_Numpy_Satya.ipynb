{
  "nbformat": 4,
  "nbformat_minor": 0,
  "metadata": {
    "colab": {
      "name": "Mathématique rime avec Numpy_Satya.ipynb",
      "provenance": [],
      "collapsed_sections": []
    },
    "kernelspec": {
      "name": "python3",
      "display_name": "Python 3"
    }
  },
  "cells": [
    {
      "cell_type": "markdown",
      "metadata": {
        "id": "K7HOMJUBt5cD",
        "colab_type": "text"
      },
      "source": [
        "# Mission 1"
      ]
    },
    {
      "cell_type": "markdown",
      "metadata": {
        "id": "6IqfpiNQujlE",
        "colab_type": "text"
      },
      "source": [
        "Trouver un moyen de calculer pour un array x, les indicateurs statistiques et fonctions suivantes avec Numpy.\n",
        "- mode\n",
        "- mediane\n",
        "- moyenne\n",
        "- l'étendu\n",
        "- l'écart-type\n",
        "- variance\n",
        "- les différents quantiles\n",
        "- Le coefficient de pearson"
      ]
    },
    {
      "cell_type": "code",
      "metadata": {
        "id": "lSzKwJ2PyWyz",
        "colab_type": "code",
        "outputId": "22419d00-e996-4063-e3c6-08b3663e8537",
        "colab": {
          "base_uri": "https://localhost:8080/",
          "height": 134
        }
      },
      "source": [
        "import numpy as np\n",
        "from scipy import stats\n",
        "\n",
        "x = np.random.randint(1,10, 10)\n",
        "print(x)\n",
        "print(stats.mode(x), np.median(x), np.average(x))\n",
        "print(min(x), max(x))\n",
        "print(np.std(x))\n",
        "print(np.var(x))\n",
        "print(stats.scoreatpercentile(x, 3), stats.scoreatpercentile(x, 7) )\n",
        "print(np.corrcoef(x))\n"
      ],
      "execution_count": 0,
      "outputs": [
        {
          "output_type": "stream",
          "text": [
            "[3 3 7 6 5 4 7 1 3 6]\n",
            "ModeResult(mode=array([3]), count=array([3])) 4.5 4.5\n",
            "1 7\n",
            "1.91049731745428\n",
            "3.65\n",
            "1.54 2.2600000000000002\n",
            "1.0\n"
          ],
          "name": "stdout"
        }
      ]
    },
    {
      "cell_type": "markdown",
      "metadata": {
        "id": "dSPGdxdsy5sg",
        "colab_type": "text"
      },
      "source": [
        "## Mission 2\n",
        "\n",
        "Crée une fonction avec Numpy qui indique pour quelle valeur de x, compris entre -100 et 100, cosinus et sinus sont égaux"
      ]
    },
    {
      "cell_type": "code",
      "metadata": {
        "id": "_6S3mTjiy5jT",
        "colab_type": "code",
        "outputId": "35a26eff-fd39-4bdf-9cb6-6bc5e2b21bef",
        "colab": {
          "base_uri": "https://localhost:8080/",
          "height": 638
        }
      },
      "source": [
        "def equal_nos():\n",
        "  for i in np.arange(-100,100,0.01):\n",
        "    if np.round(np.sin(i), 2) == np.round(np.cos(i), 2):\n",
        "      print(i)\n",
        "    else:\n",
        "      pass\n",
        "equal_nos()"
      ],
      "execution_count": 0,
      "outputs": [
        {
          "output_type": "stream",
          "text": [
            "-93.45999999999665\n",
            "-90.31999999999505\n",
            "-87.17999999999344\n",
            "-84.03999999999184\n",
            "-74.60999999998701\n",
            "-71.4699999999854\n",
            "-68.3299999999838\n",
            "-65.18999999998219\n",
            "-52.61999999997576\n",
            "-49.479999999974154\n",
            "-46.33999999997255\n",
            "-33.76999999996612\n",
            "-30.62999999996451\n",
            "-27.489999999962905\n",
            "-24.349999999961298\n",
            "-14.919999999956474\n",
            "-11.779999999954867\n",
            "-8.639999999953261\n",
            "-5.499999999951655\n",
            "7.070000000054776\n",
            "10.210000000056382\n",
            "13.350000000057989\n",
            "25.92000000006442\n",
            "29.060000000066026\n",
            "32.20000000006763\n",
            "35.34000000006924\n",
            "44.77000000007405\n",
            "47.910000000075684\n",
            "51.05000000007726\n",
            "54.190000000078896\n",
            "63.62000000008371\n",
            "66.76000000008531\n",
            "69.90000000008692\n",
            "73.04000000008853\n",
            "85.61000000009494\n",
            "88.75000000009658\n",
            "91.89000000009815\n"
          ],
          "name": "stdout"
        }
      ]
    },
    {
      "cell_type": "markdown",
      "metadata": {
        "id": "Tr3pka4-0az7",
        "colab_type": "text"
      },
      "source": [
        "## Mission 3\n",
        "\n",
        "Crée une fonction qui renvoie la [valeur inverse](https://fr.wikipedia.org/wiki/Inverse) d'un ensemble de valeurs contenues dans un array Numpy"
      ]
    },
    {
      "cell_type": "code",
      "metadata": {
        "id": "m4qgMMqH0hSl",
        "colab_type": "code",
        "outputId": "03f4fe03-92ac-42b0-b466-22c01cec158e",
        "colab": {
          "base_uri": "https://localhost:8080/",
          "height": 50
        }
      },
      "source": [
        "def inverse(arr):\n",
        "  return np.reciprocal(arr)\n",
        "\n",
        "x1 = np.random.uniform(2.5, 6.4, 3)\n",
        "print(x1)\n",
        "inverse(x1)\n",
        "\n",
        "  \n",
        "#x1 = np.array([[[1., 2.], [3., 4.]], [[1, 3], [3, 5]]])\n",
        "#print(x1)\n",
        "#print(np.linalg.inv(x1))"
      ],
      "execution_count": 0,
      "outputs": [
        {
          "output_type": "stream",
          "text": [
            "[3.5525247  3.28732577 4.27722196]\n"
          ],
          "name": "stdout"
        },
        {
          "output_type": "execute_result",
          "data": {
            "text/plain": [
              "array([0.28148995, 0.30419863, 0.23379661])"
            ]
          },
          "metadata": {
            "tags": []
          },
          "execution_count": 62
        }
      ]
    },
    {
      "cell_type": "markdown",
      "metadata": {
        "id": "3fydJ2Axqtq3",
        "colab_type": "text"
      },
      "source": [
        "## Mission 4\n",
        "\n",
        "Crée une fonction avec Numpy qui permet de résoudre les [équations du second degré du genre](https://www.youtube.com/watch?v=youUIZ-wsYk) : $ax^2+bx+c$"
      ]
    },
    {
      "cell_type": "code",
      "metadata": {
        "id": "G0JzTI000jMz",
        "colab_type": "code",
        "outputId": "112e03dd-0bbd-48cc-c2f4-4899a65ba3a6",
        "colab": {
          "base_uri": "https://localhost:8080/",
          "height": 34
        }
      },
      "source": [
        "def eq_quadratic(a,b,c):\n",
        "  return np.roots([a,b,c])\n",
        "eq_quadratic(3,4,2)"
      ],
      "execution_count": 0,
      "outputs": [
        {
          "output_type": "execute_result",
          "data": {
            "text/plain": [
              "array([-0.66666667+0.47140452j, -0.66666667-0.47140452j])"
            ]
          },
          "metadata": {
            "tags": []
          },
          "execution_count": 69
        }
      ]
    },
    {
      "cell_type": "markdown",
      "metadata": {
        "id": "cUDHf3xAzrGG",
        "colab_type": "text"
      },
      "source": [
        "## Mission 5\n",
        "\n",
        "Recode le théorème central limite en utilisant les fonctions de Numpy et non pas celles de Python."
      ]
    },
    {
      "cell_type": "code",
      "metadata": {
        "id": "OZOkEkZFztCK",
        "colab_type": "code",
        "outputId": "08705b36-034a-4758-a46b-cf85ba0577c2",
        "colab": {
          "base_uri": "https://localhost:8080/",
          "height": 269
        }
      },
      "source": [
        "# Code avec Python\n",
        "\n",
        "import numpy as np\n",
        "import matplotlib.pyplot as plt\n",
        "from math import sqrt, pi, exp\n",
        "\n",
        "domaine = range(-100,100)\n",
        "mu = 0\n",
        "sigma = 20\n",
        "\n",
        "f = lambda x : 1/(sqrt(2*pi*pow(sigma,2))) * exp(-pow((x-mu),2)/(2*pow(sigma,2)))\n",
        "\n",
        "y = [f(x) for x in domaine]\n",
        "plot = plt.plot(domaine, y)"
      ],
      "execution_count": 0,
      "outputs": [
        {
          "output_type": "display_data",
          "data": {
            "image/png": "[encoded data removed]",
            "text/plain": [
              "<Figure size 432x288 with 1 Axes>"
            ]
          },
          "metadata": {
            "tags": []
          }
        }
      ]
    },
    {
      "cell_type": "code",
      "metadata": {
        "id": "s6fqCDNjzuuN",
        "colab_type": "code",
        "outputId": "a00eb205-4584-41df-8239-e2a9aaa993a8",
        "colab": {
          "base_uri": "https://localhost:8080/",
          "height": 269
        }
      },
      "source": [
        "import numpy as np\n",
        "import matplotlib.pyplot as plt\n",
        "from math import sqrt, pi, exp\n",
        "\n",
        "domaine = np.arange(-100,100)\n",
        "mu = 0\n",
        "sigma = 20\n",
        "\n",
        "f = lambda x : 1/(np.sqrt(2*pi*pow(sigma,2))) * np.exp(-pow((x-mu),2)/(2*pow(sigma,2)))\n",
        "\n",
        "y = [f(x) for x in domaine]\n",
        "plot = plt.plot(domaine, y)"
      ],
      "execution_count": 0,
      "outputs": [
        {
          "output_type": "display_data",
          "data": {
            "image/png": "[encoded data removed]",
            "text/plain": [
              "<Figure size 432x288 with 1 Axes>"
            ]
          },
          "metadata": {
            "tags": []
          }
        }
      ]
    }
  ]
}